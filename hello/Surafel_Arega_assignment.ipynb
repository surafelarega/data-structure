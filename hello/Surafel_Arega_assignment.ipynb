{
 "cells": [
  {
   "cell_type": "markdown",
   "metadata": {},
   "source": [
    "Name: Surafel Arega\n",
    "\n",
    "Id: DBU1601636\n",
    "\n",
    "Github Account: https://github.com/surafelarega/data-structure/blob/main/hello/Surafel_Arega_assignment.ipynb"
   ]
  },
  {
   "cell_type": "code",
   "execution_count": 1,
   "metadata": {},
   "outputs": [],
   "source": [
    "Students = [\n",
    "    {'id': 'DBU1601436', 'name': 'Surafel', 'dept': 'DS', 'cgpa': 3.34},\n",
    "    {'id': 'DBU1601062', 'name': 'Abel', 'dept': 'CS', 'cgpa': 3.12},\n",
    "    {'id': 'DBU1601820', 'name': 'Yishak', 'dept': 'DS', 'cgpa': 2.74},\n",
    "    {'id': 'DBU1601598', 'name': 'Rahel', 'dept': 'CS', 'cgpa': 3.10},\n",
    "    {'id': 'DBU1601990', 'name': 'Kidus', 'dept': 'CS', 'cgpa': 2.95},\n",
    "    {'id': 'DBU1601254', 'name': 'Hanna', 'dept': 'DS', 'cgpa': 3.45},\n",
    "    {'id': 'DBU1601552', 'name': 'Eyoel', 'dept': 'CS', 'cgpa': 3.02},\n",
    "    {'id': 'DBU1601629', 'name': 'Sofoniyas', 'dept': 'DS', 'cgpa': 2.88},\n",
    "    {'id': 'DBU1601992', 'name': 'Yohana', 'dept': 'CS', 'cgpa': 3.67},\n",
    "    {'id': 'DBU1601615', 'name': 'Selam', 'dept': 'DS', 'cgpa': 3.67}\n",
    "]"
   ]
  },
  {
   "cell_type": "code",
   "execution_count": 2,
   "metadata": {},
   "outputs": [],
   "source": [
    "# 1. Bubble Sort by ID\n",
    "def bubble_sort_by_id(students):\n",
    "    n = len(students)\n",
    "    for i in range(n):\n",
    "        for j in range(0, n - i - 1):\n",
    "            if students[j]['id'] > students[j + 1]['id']:\n",
    "                students[j], students[j + 1] = students[j + 1], students[j]\n",
    "    return students"
   ]
  },
  {
   "cell_type": "code",
   "execution_count": 3,
   "metadata": {},
   "outputs": [],
   "source": [
    "def display_students(title, students):\n",
    "    print(f\"/n{title}\")\n",
    "    for s in students:\n",
    "        print(s)"
   ]
  },
  {
   "cell_type": "code",
   "execution_count": 4,
   "metadata": {},
   "outputs": [
    {
     "name": "stdout",
     "output_type": "stream",
     "text": [
      "/nSorted by ID (Bubble Sort):\n",
      "{'id': 'DBU1601062', 'name': 'Abel', 'dept': 'CS', 'cgpa': 3.12}\n",
      "{'id': 'DBU1601254', 'name': 'Hanna', 'dept': 'DS', 'cgpa': 3.45}\n",
      "{'id': 'DBU1601436', 'name': 'Surafel', 'dept': 'DS', 'cgpa': 3.34}\n",
      "{'id': 'DBU1601552', 'name': 'Eyoel', 'dept': 'CS', 'cgpa': 3.02}\n",
      "{'id': 'DBU1601598', 'name': 'Rahel', 'dept': 'CS', 'cgpa': 3.1}\n",
      "{'id': 'DBU1601615', 'name': 'Selam', 'dept': 'DS', 'cgpa': 3.67}\n",
      "{'id': 'DBU1601629', 'name': 'Sofoniyas', 'dept': 'DS', 'cgpa': 2.88}\n",
      "{'id': 'DBU1601820', 'name': 'Yishak', 'dept': 'DS', 'cgpa': 2.74}\n",
      "{'id': 'DBU1601990', 'name': 'Kidus', 'dept': 'CS', 'cgpa': 2.95}\n",
      "{'id': 'DBU1601992', 'name': 'Yohana', 'dept': 'CS', 'cgpa': 3.67}\n"
     ]
    }
   ],
   "source": [
    "sorted_by_id = bubble_sort_by_id(Students.copy())\n",
    "display_students(\"Sorted by ID (Bubble Sort):\", sorted_by_id)"
   ]
  },
  {
   "cell_type": "markdown",
   "metadata": {},
   "source": [
    "# Sorting by 'id' using bubble sort\n",
    "\n",
    "How it Works:\n",
    "  Compares adjacent student dictionaries by 'id' key.\n",
    "  Swaps them if they’re in the wrong order.\n",
    "\n",
    "Observations:\n",
    "  Every comparison requires accessing student['id'].\n",
    "  Many swaps of whole dictionaries, which is heavier than swapping integers or strings.\n",
    "\n",
    "Performance:\n",
    "  Time Complexity: O(n²)\n",
    "  Dictionary Impact: Frequent swapping of complex data structures (entire dicts) adds overhead.\n",
    "  Best Case: If IDs are already sorted → fewer iterations."
   ]
  },
  {
   "cell_type": "code",
   "execution_count": 5,
   "metadata": {},
   "outputs": [],
   "source": [
    "def insertion_sort_by_name(students):\n",
    "    for i in range(1, len(students)):\n",
    "        key_student = students[i]\n",
    "        j = i - 1\n",
    "        while j >= 0 and key_student['name'].lower() < students[j]['name'].lower():\n",
    "            students[j + 1] = students[j]\n",
    "            j -= 1\n",
    "        students[j + 1] = key_student\n",
    "    return students"
   ]
  },
  {
   "cell_type": "code",
   "execution_count": 6,
   "metadata": {},
   "outputs": [
    {
     "name": "stdout",
     "output_type": "stream",
     "text": [
      "/nSorted by Name (Insertion Sort):\n",
      "{'id': 'DBU1601062', 'name': 'Abel', 'dept': 'CS', 'cgpa': 3.12}\n",
      "{'id': 'DBU1601552', 'name': 'Eyoel', 'dept': 'CS', 'cgpa': 3.02}\n",
      "{'id': 'DBU1601254', 'name': 'Hanna', 'dept': 'DS', 'cgpa': 3.45}\n",
      "{'id': 'DBU1601990', 'name': 'Kidus', 'dept': 'CS', 'cgpa': 2.95}\n",
      "{'id': 'DBU1601598', 'name': 'Rahel', 'dept': 'CS', 'cgpa': 3.1}\n",
      "{'id': 'DBU1601615', 'name': 'Selam', 'dept': 'DS', 'cgpa': 3.67}\n",
      "{'id': 'DBU1601629', 'name': 'Sofoniyas', 'dept': 'DS', 'cgpa': 2.88}\n",
      "{'id': 'DBU1601436', 'name': 'Surafel', 'dept': 'DS', 'cgpa': 3.34}\n",
      "{'id': 'DBU1601820', 'name': 'Yishak', 'dept': 'DS', 'cgpa': 2.74}\n",
      "{'id': 'DBU1601992', 'name': 'Yohana', 'dept': 'CS', 'cgpa': 3.67}\n"
     ]
    }
   ],
   "source": [
    "sorted_by_name = insertion_sort_by_name(Students.copy())\n",
    "display_students(\"Sorted by Name (Insertion Sort):\", sorted_by_name)"
   ]
  },
  {
   "cell_type": "markdown",
   "metadata": {},
   "source": [
    "# Sorting by 'name'using Insertion sort\n",
    "\n",
    "How it Works:\n",
    "  Inserts each student into its correct position by comparing 'name' values alphabetically.\n",
    "  \n",
    "Observations:\n",
    "  Accessing and comparing student['name'] strings (possibly large text).\n",
    "  Relatively fewer swaps, but still involves shifting dictionaries around.\n",
    "\n",
    "Performance:\n",
    "  Time Complexity: O(n²)\n",
    "  Dictionary Impact: Efficient on small or nearly sorted data.\n",
    "  Stable sort: If two students have the same name, their order remains."
   ]
  },
  {
   "cell_type": "code",
   "execution_count": 7,
   "metadata": {},
   "outputs": [],
   "source": [
    "# 3. Selection Sort by CGPA (Descending)\n",
    "def selection_sort_by_cgpa_desc(students):\n",
    "    n = len(students)\n",
    "    for i in range(n):\n",
    "        max_idx = i\n",
    "        for j in range(i + 1, n):\n",
    "            if students[j]['cgpa'] > students[max_idx]['cgpa']:\n",
    "                max_idx = j\n",
    "        students[i], students[max_idx] = students[max_idx], students[i]\n",
    "    return students"
   ]
  },
  {
   "cell_type": "code",
   "execution_count": 8,
   "metadata": {},
   "outputs": [
    {
     "name": "stdout",
     "output_type": "stream",
     "text": [
      "/nSorted by CGPA Desc (Selection Sort):\n",
      "{'id': 'DBU1601992', 'name': 'Yohana', 'dept': 'CS', 'cgpa': 3.67}\n",
      "{'id': 'DBU1601615', 'name': 'Selam', 'dept': 'DS', 'cgpa': 3.67}\n",
      "{'id': 'DBU1601254', 'name': 'Hanna', 'dept': 'DS', 'cgpa': 3.45}\n",
      "{'id': 'DBU1601436', 'name': 'Surafel', 'dept': 'DS', 'cgpa': 3.34}\n",
      "{'id': 'DBU1601062', 'name': 'Abel', 'dept': 'CS', 'cgpa': 3.12}\n",
      "{'id': 'DBU1601598', 'name': 'Rahel', 'dept': 'CS', 'cgpa': 3.1}\n",
      "{'id': 'DBU1601552', 'name': 'Eyoel', 'dept': 'CS', 'cgpa': 3.02}\n",
      "{'id': 'DBU1601990', 'name': 'Kidus', 'dept': 'CS', 'cgpa': 2.95}\n",
      "{'id': 'DBU1601629', 'name': 'Sofoniyas', 'dept': 'DS', 'cgpa': 2.88}\n",
      "{'id': 'DBU1601820', 'name': 'Yishak', 'dept': 'DS', 'cgpa': 2.74}\n"
     ]
    }
   ],
   "source": [
    "sorted_by_cgpa = selection_sort_by_cgpa_desc(Students.copy())\n",
    "display_students(\"Sorted by CGPA Desc (Selection Sort):\", sorted_by_cgpa)"
   ]
  },
  {
   "cell_type": "markdown",
   "metadata": {},
   "source": [
    "# Sorting by 'cgpa' in Descending order using Selection sort\n",
    "\n",
    "How it Works:\n",
    "  Finds the max CGPA in the unsorted part and moves it to the front.\n",
    "\n",
    "Observations:\n",
    "  Every iteration involves scanning multiple dictionaries for student['cgpa'].\n",
    "  Fewer swaps (1 per iteration), but each is a full dictionary swap.\n",
    "\n",
    "Performance:\n",
    "  Time Complexity: O(n²)\n",
    "  Dictionary Impact: High read-access (to 'cgpa') but fewer write operations."
   ]
  },
  {
   "cell_type": "markdown",
   "metadata": {},
   "source": [
    "# Advantage and Disadvantage\n",
    "-Bubble Sort are easy to understand and simple to use but are very slow on a large datasets and inefficient due to many swaps.\n",
    "\n",
    "-Insertion Sort are efficient on small or nearly sorted data but like bubble sort have a poor performance on large and unsorted lists.\n",
    "\n",
    "-Selection sort are easy to implement but always does O(n²) comparisons."
   ]
  }
 ],
 "metadata": {
  "kernelspec": {
   "display_name": "base",
   "language": "python",
   "name": "python3"
  },
  "language_info": {
   "codemirror_mode": {
    "name": "ipython",
    "version": 3
   },
   "file_extension": ".py",
   "mimetype": "text/x-python",
   "name": "python",
   "nbconvert_exporter": "python",
   "pygments_lexer": "ipython3",
   "version": "3.12.7"
  }
 },
 "nbformat": 4,
 "nbformat_minor": 2
}
